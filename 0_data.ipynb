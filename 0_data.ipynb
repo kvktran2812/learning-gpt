{
 "cells": [
  {
   "cell_type": "markdown",
   "id": "68174047-34cc-4d91-a9d8-8962407e3301",
   "metadata": {},
   "source": [
    "# Tokenizer"
   ]
  },
  {
   "cell_type": "code",
   "execution_count": 1,
   "id": "47e7462c-c45c-4d81-85dc-dd707bface57",
   "metadata": {},
   "outputs": [],
   "source": [
    "with open(\"data/truyen_kieu_data.txt\", \"r\", encoding=\"utf-8\") as f:\n",
    "    text = f.read()"
   ]
  },
  {
   "cell_type": "code",
   "execution_count": 2,
   "id": "4f04b5de-c5d5-421d-b2d3-eb71398b5364",
   "metadata": {},
   "outputs": [
    {
     "name": "stdout",
     "output_type": "stream",
     "text": [
      "129\n"
     ]
    }
   ],
   "source": [
    "chars = sorted(list(set(text)))\n",
    "print(len(chars))"
   ]
  },
  {
   "cell_type": "code",
   "execution_count": 3,
   "id": "e1530aff-bafb-41df-a404-1c5c1c7a3a88",
   "metadata": {},
   "outputs": [
    {
     "name": "stdout",
     "output_type": "stream",
     "text": [
      "Vocab Size (bộ từ vựng): 129\n",
      "Số lượng chữ:  104809\n"
     ]
    }
   ],
   "source": [
    "print(\"Vocab Size (bộ từ vựng):\", len(chars))\n",
    "print(\"Số lượng chữ: \", len(text))\n",
    "\n",
    "vocab_size = len(chars)"
   ]
  },
  {
   "cell_type": "code",
   "execution_count": 4,
   "id": "f7714b91-0c57-4247-bec8-c067d161d93e",
   "metadata": {},
   "outputs": [],
   "source": [
    "ctoi = {ch:i for i,ch in enumerate(chars)}\n",
    "itoc = {i:ch for i,ch in enumerate(chars)}"
   ]
  },
  {
   "cell_type": "code",
   "execution_count": 5,
   "id": "a63d326b-e4be-46db-9f07-b6cde86a8fac",
   "metadata": {},
   "outputs": [],
   "source": [
    "encode = lambda s: [ctoi[i] for i in s]\n",
    "decode = lambda s: ''.join([itoc[i] for i in s])"
   ]
  },
  {
   "cell_type": "code",
   "execution_count": 6,
   "id": "f08ef77e-7bd3-431c-a1a8-46e26741efdb",
   "metadata": {},
   "outputs": [
    {
     "data": {
      "text/plain": [
       "'Trăm năm trong cõi người ta, Chữ tài chữ mệnh khéo là ghét nhau.'"
      ]
     },
     "execution_count": 6,
     "metadata": {},
     "output_type": "execute_result"
    }
   ],
   "source": [
    "decode(encode(\"Trăm năm trong cõi người ta, Chữ tài chữ mệnh khéo là ghét nhau.\"))"
   ]
  },
  {
   "cell_type": "markdown",
   "id": "3ad6b68f-bf86-406f-88d2-7cdda195aa18",
   "metadata": {},
   "source": [
    "# Chuẩn bị dữ liệu"
   ]
  },
  {
   "cell_type": "code",
   "execution_count": 7,
   "id": "501b4596-8ad2-4790-b692-992cfdccb784",
   "metadata": {},
   "outputs": [],
   "source": [
    "import torch"
   ]
  },
  {
   "cell_type": "code",
   "execution_count": 8,
   "id": "ed1dface-36b3-4731-9fe9-58b9d812044d",
   "metadata": {},
   "outputs": [],
   "source": [
    "data = torch.tensor(encode(text), dtype=torch.long)"
   ]
  },
  {
   "cell_type": "code",
   "execution_count": 9,
   "id": "860d996e-3c54-42fd-9214-e1fdb0dc9abf",
   "metadata": {},
   "outputs": [
    {
     "data": {
      "text/plain": [
       "tensor([26, 47, 74, 42,  1, 43, 74, 42,  1, 49])"
      ]
     },
     "execution_count": 9,
     "metadata": {},
     "output_type": "execute_result"
    }
   ],
   "source": [
    "data[0:10]"
   ]
  },
  {
   "cell_type": "code",
   "execution_count": 10,
   "id": "6d5ca8bf-83c4-46eb-9501-8d1d3eaf06a9",
   "metadata": {},
   "outputs": [
    {
     "name": "stdout",
     "output_type": "stream",
     "text": [
      "94328\n",
      "10481\n"
     ]
    }
   ],
   "source": [
    "n = int(0.9*len(text))\n",
    "train_data = data[:n]\n",
    "val_data = data[n:]\n",
    "\n",
    "print(len(train_data))\n",
    "print(len(val_data))"
   ]
  },
  {
   "cell_type": "code",
   "execution_count": 11,
   "id": "e092e049-d9d5-4e7b-be94-d4099143974f",
   "metadata": {},
   "outputs": [],
   "source": [
    "block_size = 8\n",
    "batch_size = 8\n",
    "\n",
    "idx = torch.randint(len(train_data) - block_size, (batch_size,))\n",
    "x = [train_data[i:i+block_size] for i in idx]\n",
    "y = [train_data[i+1:i+block_size+1] for i in idx]"
   ]
  },
  {
   "cell_type": "code",
   "execution_count": 12,
   "id": "279d033e-37aa-4bb0-8416-8a65ae5cd133",
   "metadata": {},
   "outputs": [],
   "source": [
    "def get_batch(data, block_size: int = 32, batch_size: int = 32):\n",
    "    idx = torch.randint(len(data) - block_size, (batch_size,))\n",
    "    x = torch.stack([data[i:i+block_size] for i in idx])\n",
    "    y = torch.stack([data[i+1:i+block_size+1] for i in idx])\n",
    "    return x, y"
   ]
  },
  {
   "cell_type": "code",
   "execution_count": 13,
   "id": "164e8561-832c-4bc0-9988-1017cc5d94ec",
   "metadata": {},
   "outputs": [
    {
     "name": "stdout",
     "output_type": "stream",
     "text": [
      "tensor([[ 53,   1,  46,  50, 124,  43,  38,   1],\n",
      "        [ 43,  37,   1,  76,  60,   1,  33,  39],\n",
      "        [ 51,  32,  53,   6,   0,  26,  65,  43],\n",
      "        [ 58,  39,   1,  49,  82, 113,  43,  37],\n",
      "        [ 59,  50,   1,  51, 111,  39,   1,  37],\n",
      "        [ 49,   1,  49,  39,  43,  38,   1,  49],\n",
      "        [ 43,   1,  49,  38, 113,   1,  38, 108],\n",
      "        [ 50,  53,  99,  43,   1,  32,  39,   1]])\n",
      "tensor([[  1,  46,  50, 124,  43,  38,   1,  34],\n",
      "        [ 37,   1,  76,  60,   1,  33,  39,  98],\n",
      "        [ 32,  53,   6,   0,  26,  65,  43,  38],\n",
      "        [ 39,   1,  49,  82, 113,  43,  37,   6],\n",
      "        [ 50,   1,  51, 111,  39,   1,  37,  64],\n",
      "        [  1,  49,  39,  43,  38,   1,  49,  38],\n",
      "        [  1,  49,  38, 113,   1,  38, 108,  43],\n",
      "        [ 53,  99,  43,   1,  32,  39,   1,   6]])\n"
     ]
    }
   ],
   "source": [
    "x, y = get_batch(train_data, 8, 8)\n",
    "print(x)\n",
    "print(y)"
   ]
  },
  {
   "cell_type": "markdown",
   "id": "84272877-4b97-4982-a9a9-6d4dc60916b0",
   "metadata": {},
   "source": [
    "<div style=\"display: flex; justify-content: space-between;\">\n",
    "    <img src=\"img/gpt.png\" width=\"40%\" height=\"40%\" style=\"margin-right: 10px;\" />\n",
    "    <img src=\"img/transformer.png\" width=\"30%\" height=\"30%\"/>\n",
    "</div>"
   ]
  },
  {
   "cell_type": "markdown",
   "id": "68092c52-94b3-4dc0-affc-92f30309ed99",
   "metadata": {},
   "source": [
    "# Positional Embedding"
   ]
  },
  {
   "cell_type": "code",
   "execution_count": null,
   "id": "299248a8-45a5-4924-b938-ea1025a82b5b",
   "metadata": {},
   "outputs": [],
   "source": []
  }
 ],
 "metadata": {
  "kernelspec": {
   "display_name": "Python 3 (ipykernel)",
   "language": "python",
   "name": "python3"
  },
  "language_info": {
   "codemirror_mode": {
    "name": "ipython",
    "version": 3
   },
   "file_extension": ".py",
   "mimetype": "text/x-python",
   "name": "python",
   "nbconvert_exporter": "python",
   "pygments_lexer": "ipython3",
   "version": "3.11.7"
  }
 },
 "nbformat": 4,
 "nbformat_minor": 5
}
