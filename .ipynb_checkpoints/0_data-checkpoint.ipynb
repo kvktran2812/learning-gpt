{
 "cells": [
  {
   "cell_type": "markdown",
   "id": "68174047-34cc-4d91-a9d8-8962407e3301",
   "metadata": {},
   "source": [
    "# Tokenizer"
   ]
  },
  {
   "cell_type": "code",
   "execution_count": 1,
   "id": "47e7462c-c45c-4d81-85dc-dd707bface57",
   "metadata": {},
   "outputs": [],
   "source": [
    "with open(\"data/truyen_kieu_data.txt\", \"r\", encoding=\"utf-8\") as f:\n",
    "    text = f.read()"
   ]
  },
  {
   "cell_type": "code",
   "execution_count": 2,
   "id": "4f04b5de-c5d5-421d-b2d3-eb71398b5364",
   "metadata": {},
   "outputs": [
    {
     "name": "stdout",
     "output_type": "stream",
     "text": [
      "129\n"
     ]
    }
   ],
   "source": [
    "chars = sorted(list(set(text)))\n",
    "print(len(chars))"
   ]
  },
  {
   "cell_type": "code",
   "execution_count": 3,
   "id": "e1530aff-bafb-41df-a404-1c5c1c7a3a88",
   "metadata": {},
   "outputs": [
    {
     "name": "stdout",
     "output_type": "stream",
     "text": [
      "Vocab Size (bộ từ vựng): 129\n",
      "Số lượng chữ:  104809\n"
     ]
    }
   ],
   "source": [
    "print(\"Vocab Size (bộ từ vựng):\", len(chars))\n",
    "print(\"Số lượng chữ: \", len(text))\n",
    "\n",
    "vocab_size = len(chars)"
   ]
  },
  {
   "cell_type": "code",
   "execution_count": 4,
   "id": "f7714b91-0c57-4247-bec8-c067d161d93e",
   "metadata": {},
   "outputs": [],
   "source": [
    "ctoi = {ch:i for i,ch in enumerate(chars)}\n",
    "itoc = {i:ch for i,ch in enumerate(chars)}"
   ]
  },
  {
   "cell_type": "code",
   "execution_count": 5,
   "id": "a63d326b-e4be-46db-9f07-b6cde86a8fac",
   "metadata": {},
   "outputs": [],
   "source": [
    "encode = lambda s: [ctoi[i] for i in s]\n",
    "decode = lambda s: ''.join([itoc[i] for i in s])"
   ]
  },
  {
   "cell_type": "code",
   "execution_count": 6,
   "id": "f08ef77e-7bd3-431c-a1a8-46e26741efdb",
   "metadata": {},
   "outputs": [
    {
     "data": {
      "text/plain": [
       "'Trăm năm trong cõi người ta, Chữ tài chữ mệnh khéo là ghét nhau.'"
      ]
     },
     "execution_count": 6,
     "metadata": {},
     "output_type": "execute_result"
    }
   ],
   "source": [
    "decode(encode(\"Trăm năm trong cõi người ta, Chữ tài chữ mệnh khéo là ghét nhau.\"))"
   ]
  },
  {
   "cell_type": "markdown",
   "id": "3ad6b68f-bf86-406f-88d2-7cdda195aa18",
   "metadata": {},
   "source": [
    "# Chuẩn bị dữ liệu"
   ]
  },
  {
   "cell_type": "code",
   "execution_count": 7,
   "id": "501b4596-8ad2-4790-b692-992cfdccb784",
   "metadata": {},
   "outputs": [],
   "source": [
    "import torch"
   ]
  },
  {
   "cell_type": "code",
   "execution_count": 8,
   "id": "ed1dface-36b3-4731-9fe9-58b9d812044d",
   "metadata": {},
   "outputs": [],
   "source": [
    "data = torch.tensor(encode(text), dtype=torch.long)"
   ]
  },
  {
   "cell_type": "code",
   "execution_count": 9,
   "id": "860d996e-3c54-42fd-9214-e1fdb0dc9abf",
   "metadata": {},
   "outputs": [
    {
     "data": {
      "text/plain": [
       "tensor([26, 47, 74, 42,  1, 43, 74, 42,  1, 49])"
      ]
     },
     "execution_count": 9,
     "metadata": {},
     "output_type": "execute_result"
    }
   ],
   "source": [
    "data[0:10]"
   ]
  },
  {
   "cell_type": "code",
   "execution_count": 10,
   "id": "6d5ca8bf-83c4-46eb-9501-8d1d3eaf06a9",
   "metadata": {},
   "outputs": [
    {
     "name": "stdout",
     "output_type": "stream",
     "text": [
      "94328\n",
      "10481\n"
     ]
    }
   ],
   "source": [
    "n = int(0.9*len(text))\n",
    "train_data = data[:n]\n",
    "val_data = data[n:]\n",
    "\n",
    "print(len(train_data))\n",
    "print(len(val_data))"
   ]
  },
  {
   "cell_type": "code",
   "execution_count": 11,
   "id": "e092e049-d9d5-4e7b-be94-d4099143974f",
   "metadata": {},
   "outputs": [],
   "source": [
    "block_size = 8\n",
    "batch_size = 8\n",
    "\n",
    "idx = torch.randint(len(train_data) - block_size, (batch_size,))\n",
    "x = [train_data[i:i+block_size] for i in idx]\n",
    "y = [train_data[i+1:i+block_size+1] for i in idx]"
   ]
  },
  {
   "cell_type": "code",
   "execution_count": 12,
   "id": "279d033e-37aa-4bb0-8416-8a65ae5cd133",
   "metadata": {},
   "outputs": [],
   "source": [
    "def get_batch(data, block_size: int = 32, batch_size: int = 32):\n",
    "    idx = torch.randint(len(data) - block_size, (batch_size,))\n",
    "    x = torch.stack([data[i:i+block_size] for i in idx])\n",
    "    y = torch.stack([data[i+1:i+block_size+1] for i in idx])\n",
    "    return x, y"
   ]
  },
  {
   "cell_type": "code",
   "execution_count": 13,
   "id": "164e8561-832c-4bc0-9988-1017cc5d94ec",
   "metadata": {},
   "outputs": [
    {
     "name": "stdout",
     "output_type": "stream",
     "text": [
      "tensor([[107,  34,   1,  46,  50, 125,   1,  40],\n",
      "        [  1,  49,  32,  53,   1,  49,  38,  86],\n",
      "        [ 43,  37,   1,  41,  83,  39,   1,  49],\n",
      "        [ 37,   1,  48,  32,  39,   1,  41, 102],\n",
      "        [ 43,   1,  42, 112,  39,   1,  34,  57],\n",
      "        [ 40,  39,  43,  38,   6,   0,  17,  38],\n",
      "        [ 80,  43,  37,   1,  49,  47,  90,  43],\n",
      "        [ 36,  44,   1,  37,  39,  58,   1,  43]])\n",
      "tensor([[ 34,   1,  46,  50, 125,   1,  40,  39],\n",
      "        [ 49,  32,  53,   1,  49,  38,  86,  53],\n",
      "        [ 37,   1,  41,  83,  39,   1,  49,  64],\n",
      "        [  1,  48,  32,  39,   1,  41, 102,  43],\n",
      "        [  1,  42, 112,  39,   1,  34,  57,  43],\n",
      "        [ 39,  43,  38,   6,   0,  17,  38,  36],\n",
      "        [ 43,  37,   1,  49,  47,  90,  43,  37],\n",
      "        [ 44,   1,  37,  39,  58,   1,  43,  37]])\n"
     ]
    }
   ],
   "source": [
    "x, y = get_batch(train_data, 8, 8)\n",
    "print(x)\n",
    "print(y)"
   ]
  },
  {
   "cell_type": "markdown",
   "id": "da753d90-2140-4228-9750-a2a963520e9f",
   "metadata": {},
   "source": [
    "# GPT Model:\n",
    "\n",
    "<div style=\"display: flex; justify-content: space-around;\">\r\n",
    "    <img src=img/gpt.pngg\" width=5300\"height=\"700\" />\r\n",
    "    <img srcimg/transformer.pngngwidth=\"500\" height=\"700\"0\" />\r\n",
    "</dv>\r\n"
   ]
  },
  {
   "cell_type": "markdown",
   "id": "68092c52-94b3-4dc0-affc-92f30309ed99",
   "metadata": {},
   "source": [
    "# Positional Embedding"
   ]
  },
  {
   "cell_type": "code",
   "execution_count": null,
   "id": "4c020c7c-4266-4b61-be6e-55afa57d0f4d",
   "metadata": {},
   "outputs": [],
   "source": []
  }
 ],
 "metadata": {
  "kernelspec": {
   "display_name": "Python 3 (ipykernel)",
   "language": "python",
   "name": "python3"
  },
  "language_info": {
   "codemirror_mode": {
    "name": "ipython",
    "version": 3
   },
   "file_extension": ".py",
   "mimetype": "text/x-python",
   "name": "python",
   "nbconvert_exporter": "python",
   "pygments_lexer": "ipython3",
   "version": "3.11.7"
  }
 },
 "nbformat": 4,
 "nbformat_minor": 5
}
