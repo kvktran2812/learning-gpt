{
 "cells": [
  {
   "cell_type": "code",
   "execution_count": 1,
   "id": "453f94c7-966c-42d3-9b9d-55d3ff573839",
   "metadata": {},
   "outputs": [],
   "source": [
    "with open(\"data/truyen_kieu_data.txt\", \"r\", encoding=\"utf-8\") as f:\n",
    "    text = f.read()\n",
    "\n",
    "chars = sorted(list(set(text)))\n",
    "vocab_size = len(chars)\n",
    "\n",
    "ctoi = {ch:i for i,ch in enumerate(chars)}\n",
    "itoc = {i:ch for i,ch in enumerate(chars)}\n",
    "\n",
    "encode = lambda s: [ctoi[i] for i in s]\n",
    "decode = lambda s: ''.join([itoc[i] for i in s])"
   ]
  },
  {
   "cell_type": "code",
   "execution_count": 2,
   "id": "cee1453a-28f9-4894-8c68-b8d28b8d5437",
   "metadata": {},
   "outputs": [],
   "source": [
    "import torch\n",
    "\n",
    "data = torch.tensor(encode(text), dtype=torch.long)\n",
    "n = int(0.9*len(text))\n",
    "train_data = data[:n]\n",
    "val_data = data[n:]\n",
    "\n",
    "def get_batch(data, block_size: int = 32, batch_size: int = 32, device=\"cpu\"):\n",
    "    idx = torch.randint(len(data) - block_size, (batch_size,))\n",
    "    x = torch.stack([data[i:i+block_size] for i in idx])\n",
    "    y = torch.stack([data[i+1:i+block_size+1] for i in idx])\n",
    "    return x.to(device), y.to(device)"
   ]
  },
  {
   "cell_type": "markdown",
   "id": "85e29e7a-8db2-4150-972e-dab28be088aa",
   "metadata": {},
   "source": [
    "<div style=\"display: flex; justify-content: space-between;\">\n",
    "    <img src=\"img/gpt.png\" width=\"40%\" height=\"40%\" style=\"margin-right: 10px;\" />\n",
    "    <img src=\"img/transformer.png\" width=\"30%\" height=\"30%\"/>\n",
    "</div>"
   ]
  },
  {
   "cell_type": "markdown",
   "id": "41c67409-d3ac-44ae-8249-8bd61650bfa5",
   "metadata": {},
   "source": [
    "# Positional Embedding"
   ]
  },
  {
   "cell_type": "code",
   "execution_count": 3,
   "id": "f695dc6a-4d2e-478f-aee1-500c82b6b501",
   "metadata": {},
   "outputs": [],
   "source": [
    "import torch.nn as nn\n",
    "from torch.nn import functional as F"
   ]
  },
  {
   "cell_type": "code",
   "execution_count": 4,
   "id": "c21214f1-d153-42e9-bac6-df1df1c4d21e",
   "metadata": {},
   "outputs": [
    {
     "name": "stdout",
     "output_type": "stream",
     "text": [
      "cuda\n"
     ]
    }
   ],
   "source": [
    "device = \"cuda\" if torch.cuda.is_available() else \"cpu\"\n",
    "print(device)"
   ]
  },
  {
   "cell_type": "code",
   "execution_count": 5,
   "id": "435fe24f-db1b-4693-bbfd-5c7ae7d5e259",
   "metadata": {},
   "outputs": [
    {
     "name": "stdout",
     "output_type": "stream",
     "text": [
      "torch.Size([8, 8, 100])\n"
     ]
    }
   ],
   "source": [
    "embedding = nn.Embedding(vocab_size, 100)\n",
    "x, y = get_batch(train_data, 8, 8)\n",
    "embedding_layer = embedding(x)\n",
    "print(embedding_layer.shape)"
   ]
  },
  {
   "cell_type": "code",
   "execution_count": 6,
   "id": "53a9988b-4972-4c78-9ddd-e7303730a608",
   "metadata": {},
   "outputs": [
    {
     "data": {
      "text/plain": [
       "tensor([[ 40,  38,  71,  34,   1,  43,  57,  53],\n",
       "        [ 49,   4,   1,  49,  38,  68,  43,  37],\n",
       "        [ 82, 112,  34,   1,  35,  50,  53,  63],\n",
       "        [ 43,  37,   1,  49,  47,  39,   4,   0],\n",
       "        [ 43,  37,   1,  34,  38,  62,  43,   1],\n",
       "        [ 82, 113,  39,   4,   0,  76,  86,  50],\n",
       "        [ 43,   4,   0,  75,  57,  44,   1,  38],\n",
       "        [ 68,  43,   1,  45,  38,  62,  45,   1]])"
      ]
     },
     "execution_count": 6,
     "metadata": {},
     "output_type": "execute_result"
    }
   ],
   "source": [
    "x"
   ]
  },
  {
   "cell_type": "code",
   "execution_count": 7,
   "id": "9cf52ae6-6a30-4a45-8a71-3365e19f1f31",
   "metadata": {},
   "outputs": [
    {
     "data": {
      "text/plain": [
       "tensor([0, 1, 2, 3, 4, 5, 6, 7])"
      ]
     },
     "execution_count": 7,
     "metadata": {},
     "output_type": "execute_result"
    }
   ],
   "source": [
    "pos = torch.arange(8, dtype=torch.long)\n",
    "pos"
   ]
  },
  {
   "cell_type": "code",
   "execution_count": 8,
   "id": "ddf81197-b13d-470d-9771-7456247680d5",
   "metadata": {},
   "outputs": [
    {
     "data": {
      "text/plain": [
       "torch.Size([8, 100])"
      ]
     },
     "execution_count": 8,
     "metadata": {},
     "output_type": "execute_result"
    }
   ],
   "source": [
    "embedding_1 = nn.Embedding(8, 100)\n",
    "pos_embedding = embedding_1(pos)\n",
    "pos_embedding.shape"
   ]
  },
  {
   "cell_type": "code",
   "execution_count": 9,
   "id": "578663e9-0b08-415e-b3b4-1095647a18eb",
   "metadata": {},
   "outputs": [
    {
     "data": {
      "text/plain": [
       "torch.Size([8, 8, 100])"
      ]
     },
     "execution_count": 9,
     "metadata": {},
     "output_type": "execute_result"
    }
   ],
   "source": [
    "output = embedding_layer + pos_embedding\n",
    "output.shape"
   ]
  },
  {
   "cell_type": "code",
   "execution_count": 10,
   "id": "cafcf12f-0b5a-48da-b57a-579d93808ee7",
   "metadata": {},
   "outputs": [],
   "source": [
    "class GPT(nn.Module):\n",
    "    def __init__(self, vocab_size, block_size, embedding_dim):\n",
    "        super().__init__()\n",
    "        self.vocab_size = vocab_size\n",
    "        self.block_size = block_size\n",
    "\n",
    "        self.token_embedding = nn.Embedding(vocab_size, embedding_dim)\n",
    "        self.pos_embedding = nn.Embedding(block_size, embedding_dim)\n",
    "        self.linear = nn.Linear(embedding_dim, vocab_size)\n",
    "\n",
    "    def forward(self, inputs, targets=None):\n",
    "        B, T = inputs.shape\n",
    "        token_embd = self.token_embedding(inputs)\n",
    "        pos_embd = self.pos_embedding(torch.arange(T, dtype=torch.long, device=device))\n",
    "        embedding = token_embd + pos_embd\n",
    "        logits = self.linear(embedding)\n",
    "        B,T,C = logits.shape\n",
    "\n",
    "        if targets is not None:\n",
    "            logits = logits.view(B*T, C)\n",
    "            targets = targets.view(B*T)\n",
    "            loss = F.cross_entropy(logits, targets)\n",
    "        else: # inference\n",
    "            loss = None\n",
    "        return logits, loss\n",
    "\n",
    "    def generate(self, idx, max_tokens=100):\n",
    "        for i in range(max_tokens):\n",
    "            idx = idx if idx.size(1) <= self.block_size else idx[:, -self.block_size:]\n",
    "            logits, loss = self(idx)\n",
    "            logits = logits[:, -1, :]\n",
    "            probs = F.softmax(logits, dim=-1)\n",
    "            idx_next = torch.multinomial(probs, num_samples=1)\n",
    "            idx = torch.cat([idx, idx_next], dim=1)\n",
    "        return idx"
   ]
  },
  {
   "cell_type": "code",
   "execution_count": 11,
   "id": "b47e13ea-3c3c-4dcb-9268-86ecda14e193",
   "metadata": {},
   "outputs": [
    {
     "data": {
      "text/plain": [
       "'ôxÂếXâóóEdêSưóEVũyPẫõâtOổVCệẳồ,\\\\ỡ'"
      ]
     },
     "execution_count": 11,
     "metadata": {},
     "output_type": "execute_result"
    }
   ],
   "source": [
    "batch_size = 32\n",
    "block_size = 32\n",
    "\n",
    "gpt = GPT(vocab_size, block_size, 128).to(device)\n",
    "context = torch.zeros((1,1), dtype=torch.long).to(device)\n",
    "\n",
    "geenrated_text = gpt.generate(context)\n",
    "decode(geenrated_text[0].tolist())"
   ]
  },
  {
   "cell_type": "code",
   "execution_count": 12,
   "id": "905aebe0-c0d8-47a9-992a-854157029fb0",
   "metadata": {},
   "outputs": [
    {
     "name": "stdout",
     "output_type": "stream",
     "text": [
      "Loss: 5.2578325271606445\n",
      "Loss: 4.2965240478515625\n",
      "Loss: 3.736593246459961\n",
      "Loss: 3.2525432109832764\n",
      "Loss: 2.9278647899627686\n",
      "Loss: 2.7996628284454346\n",
      "Loss: 2.6458308696746826\n",
      "Loss: 2.5769803524017334\n",
      "Loss: 2.5495080947875977\n",
      "Loss: 2.4975688457489014\n"
     ]
    }
   ],
   "source": [
    "steps = 2000\n",
    "optimizer = torch.optim.AdamW(gpt.parameters(), lr=0.0001)\n",
    "\n",
    "for i in range(steps):\n",
    "    x, y = get_batch(train_data, block_size, batch_size, device)\n",
    "    optimizer.zero_grad()\n",
    "\n",
    "    logits, loss = gpt(x, y)\n",
    "    loss.backward()\n",
    "    optimizer.step()\n",
    "\n",
    "    if i % 200 == 0:\n",
    "        print(f\"Loss: {loss.item()}\")"
   ]
  },
  {
   "cell_type": "code",
   "execution_count": 13,
   "id": "f1c30220-de65-4244-b9a6-6b852875a452",
   "metadata": {},
   "outputs": [
    {
     "name": "stdout",
     "output_type": "stream",
     "text": [
      " rẻV?\n",
      "Nhm lK tã thẳThớc n đãyấing\n"
     ]
    }
   ],
   "source": [
    "context = torch.zeros((1,1), dtype=torch.long).to(device)\n",
    "\n",
    "geenrated_text = gpt.generate(context)\n",
    "print(decode(geenrated_text[0].tolist()))"
   ]
  },
  {
   "cell_type": "code",
   "execution_count": null,
   "id": "bf797a5f-b2ed-4dc7-b63c-647cc99ff85a",
   "metadata": {},
   "outputs": [],
   "source": []
  }
 ],
 "metadata": {
  "kernelspec": {
   "display_name": "Python 3 (ipykernel)",
   "language": "python",
   "name": "python3"
  },
  "language_info": {
   "codemirror_mode": {
    "name": "ipython",
    "version": 3
   },
   "file_extension": ".py",
   "mimetype": "text/x-python",
   "name": "python",
   "nbconvert_exporter": "python",
   "pygments_lexer": "ipython3",
   "version": "3.11.7"
  }
 },
 "nbformat": 4,
 "nbformat_minor": 5
}
